{
  "nbformat": 4,
  "nbformat_minor": 0,
  "metadata": {
    "colab": {
      "name": "W2_TikiProject_analysis.ipynb",
      "provenance": [],
      "collapsed_sections": []
    },
    "kernelspec": {
      "name": "python3",
      "display_name": "Python 3"
    },
    "language_info": {
      "name": "python"
    }
  },
  "cells": [
    {
      "cell_type": "code",
      "metadata": {
        "id": "2IGq7nak9rTE"
      },
      "source": [
        "!wget -q '/content/Tiki_scraping.db'"
      ],
      "execution_count": 7,
      "outputs": []
    },
    {
      "cell_type": "code",
      "metadata": {
        "id": "6Ix0K3n49_l9"
      },
      "source": [
        "import sqlite3\n",
        "conn = sqlite3.connect('Tiki_scraping.db')\n",
        "import pandas as pd\n",
        "import seaborn as sns"
      ],
      "execution_count": 8,
      "outputs": []
    },
    {
      "cell_type": "code",
      "metadata": {
        "colab": {
          "base_uri": "https://localhost:8080/",
          "height": 415
        },
        "id": "ugbr72bJAErb",
        "outputId": "ee57ef31-0e21-4efe-fe8c-a227023ebf3d"
      },
      "source": [
        "query = '''\n",
        "SELECT url\n",
        "FROM categories a\n",
        "\n",
        "'''\n",
        "pd.read_sql_query(query, conn)"
      ],
      "execution_count": 9,
      "outputs": [
        {
          "output_type": "execute_result",
          "data": {
            "text/html": [
              "<div>\n",
              "<style scoped>\n",
              "    .dataframe tbody tr th:only-of-type {\n",
              "        vertical-align: middle;\n",
              "    }\n",
              "\n",
              "    .dataframe tbody tr th {\n",
              "        vertical-align: top;\n",
              "    }\n",
              "\n",
              "    .dataframe thead th {\n",
              "        text-align: right;\n",
              "    }\n",
              "</style>\n",
              "<table border=\"1\" class=\"dataframe\">\n",
              "  <thead>\n",
              "    <tr style=\"text-align: right;\">\n",
              "      <th></th>\n",
              "      <th>url</th>\n",
              "    </tr>\n",
              "  </thead>\n",
              "  <tbody>\n",
              "    <tr>\n",
              "      <th>0</th>\n",
              "      <td>https://tiki.vn/dien-thoai-may-tinh-bang/c1789...</td>\n",
              "    </tr>\n",
              "    <tr>\n",
              "      <th>1</th>\n",
              "      <td>https://tiki.vn/tivi-thiet-bi-nghe-nhin/c4221?...</td>\n",
              "    </tr>\n",
              "    <tr>\n",
              "      <th>2</th>\n",
              "      <td>https://tiki.vn/thiet-bi-kts-phu-kien-so/c1815...</td>\n",
              "    </tr>\n",
              "    <tr>\n",
              "      <th>3</th>\n",
              "      <td>https://tiki.vn/laptop-may-vi-tinh/c1846?src=c...</td>\n",
              "    </tr>\n",
              "    <tr>\n",
              "      <th>4</th>\n",
              "      <td>https://tiki.vn/may-anh/c1801?src=c.1801.hambu...</td>\n",
              "    </tr>\n",
              "    <tr>\n",
              "      <th>...</th>\n",
              "      <td>...</td>\n",
              "    </tr>\n",
              "    <tr>\n",
              "      <th>2649</th>\n",
              "      <td>https://tiki.vn/the-thao/c1975?src=c.1975.hamb...</td>\n",
              "    </tr>\n",
              "    <tr>\n",
              "      <th>2650</th>\n",
              "      <td>https://tiki.vn/o-to-xe-may-xe-dap/c8594?src=c...</td>\n",
              "    </tr>\n",
              "    <tr>\n",
              "      <th>2651</th>\n",
              "      <td>https://tiki.vn/hang-quoc-te/c17166?src=c.1716...</td>\n",
              "    </tr>\n",
              "    <tr>\n",
              "      <th>2652</th>\n",
              "      <td>https://tiki.vn/nha-sach-tiki/c8322?src=c.8322...</td>\n",
              "    </tr>\n",
              "    <tr>\n",
              "      <th>2653</th>\n",
              "      <td>https://tiki.vn/voucher-dich-vu/c11312?src=c.1...</td>\n",
              "    </tr>\n",
              "  </tbody>\n",
              "</table>\n",
              "<p>2654 rows × 1 columns</p>\n",
              "</div>"
            ],
            "text/plain": [
              "                                                    url\n",
              "0     https://tiki.vn/dien-thoai-may-tinh-bang/c1789...\n",
              "1     https://tiki.vn/tivi-thiet-bi-nghe-nhin/c4221?...\n",
              "2     https://tiki.vn/thiet-bi-kts-phu-kien-so/c1815...\n",
              "3     https://tiki.vn/laptop-may-vi-tinh/c1846?src=c...\n",
              "4     https://tiki.vn/may-anh/c1801?src=c.1801.hambu...\n",
              "...                                                 ...\n",
              "2649  https://tiki.vn/the-thao/c1975?src=c.1975.hamb...\n",
              "2650  https://tiki.vn/o-to-xe-may-xe-dap/c8594?src=c...\n",
              "2651  https://tiki.vn/hang-quoc-te/c17166?src=c.1716...\n",
              "2652  https://tiki.vn/nha-sach-tiki/c8322?src=c.8322...\n",
              "2653  https://tiki.vn/voucher-dich-vu/c11312?src=c.1...\n",
              "\n",
              "[2654 rows x 1 columns]"
            ]
          },
          "metadata": {
            "tags": []
          },
          "execution_count": 9
        }
      ]
    },
    {
      "cell_type": "code",
      "metadata": {
        "colab": {
          "base_uri": "https://localhost:8080/",
          "height": 415
        },
        "id": "7vgEHsZW-KMC",
        "outputId": "0a282706-1832-453e-c91e-e5e054819b5f"
      },
      "source": [
        "query = '''\n",
        "WITH lowest_sub as \n",
        "(SELECT a.id as parent, a.url as url, b.id as child\n",
        "FROM categories as a\n",
        "LEFT JOIN categories as b ON a.id = b.parent_id\n",
        "WHERE child IS NULL)\n",
        "\n",
        "SELECT parent as id, url\n",
        "FROM lowest_sub\n",
        "\n",
        "'''\n",
        "pd.read_sql_query(query, conn)"
      ],
      "execution_count": 10,
      "outputs": [
        {
          "output_type": "execute_result",
          "data": {
            "text/html": [
              "<div>\n",
              "<style scoped>\n",
              "    .dataframe tbody tr th:only-of-type {\n",
              "        vertical-align: middle;\n",
              "    }\n",
              "\n",
              "    .dataframe tbody tr th {\n",
              "        vertical-align: top;\n",
              "    }\n",
              "\n",
              "    .dataframe thead th {\n",
              "        text-align: right;\n",
              "    }\n",
              "</style>\n",
              "<table border=\"1\" class=\"dataframe\">\n",
              "  <thead>\n",
              "    <tr style=\"text-align: right;\">\n",
              "      <th></th>\n",
              "      <th>id</th>\n",
              "      <th>url</th>\n",
              "    </tr>\n",
              "  </thead>\n",
              "  <tbody>\n",
              "    <tr>\n",
              "      <th>0</th>\n",
              "      <td>16</td>\n",
              "      <td>https://tiki.vn/dien-thoai-smartphone/c1795?sr...</td>\n",
              "    </tr>\n",
              "    <tr>\n",
              "      <th>1</th>\n",
              "      <td>17</td>\n",
              "      <td>https://tiki.vn/dien-thoai-pho-thong/c1796?src...</td>\n",
              "    </tr>\n",
              "    <tr>\n",
              "      <th>2</th>\n",
              "      <td>18</td>\n",
              "      <td>https://tiki.vn/dien-thoai-ban/c8061?src=c.178...</td>\n",
              "    </tr>\n",
              "    <tr>\n",
              "      <th>3</th>\n",
              "      <td>19</td>\n",
              "      <td>https://tiki.vn/may-doc-sach/c28856?src=c.1789...</td>\n",
              "    </tr>\n",
              "    <tr>\n",
              "      <th>4</th>\n",
              "      <td>20</td>\n",
              "      <td>https://tiki.vn/may-tinh-bang/c1794?src=c.1789...</td>\n",
              "    </tr>\n",
              "    <tr>\n",
              "      <th>...</th>\n",
              "      <td>...</td>\n",
              "      <td>...</td>\n",
              "    </tr>\n",
              "    <tr>\n",
              "      <th>2200</th>\n",
              "      <td>2651</td>\n",
              "      <td>https://tiki.vn/the-thao/c1975?src=c.1975.hamb...</td>\n",
              "    </tr>\n",
              "    <tr>\n",
              "      <th>2201</th>\n",
              "      <td>2652</td>\n",
              "      <td>https://tiki.vn/o-to-xe-may-xe-dap/c8594?src=c...</td>\n",
              "    </tr>\n",
              "    <tr>\n",
              "      <th>2202</th>\n",
              "      <td>2653</td>\n",
              "      <td>https://tiki.vn/hang-quoc-te/c17166?src=c.1716...</td>\n",
              "    </tr>\n",
              "    <tr>\n",
              "      <th>2203</th>\n",
              "      <td>2654</td>\n",
              "      <td>https://tiki.vn/nha-sach-tiki/c8322?src=c.8322...</td>\n",
              "    </tr>\n",
              "    <tr>\n",
              "      <th>2204</th>\n",
              "      <td>2655</td>\n",
              "      <td>https://tiki.vn/voucher-dich-vu/c11312?src=c.1...</td>\n",
              "    </tr>\n",
              "  </tbody>\n",
              "</table>\n",
              "<p>2205 rows × 2 columns</p>\n",
              "</div>"
            ],
            "text/plain": [
              "        id                                                url\n",
              "0       16  https://tiki.vn/dien-thoai-smartphone/c1795?sr...\n",
              "1       17  https://tiki.vn/dien-thoai-pho-thong/c1796?src...\n",
              "2       18  https://tiki.vn/dien-thoai-ban/c8061?src=c.178...\n",
              "3       19  https://tiki.vn/may-doc-sach/c28856?src=c.1789...\n",
              "4       20  https://tiki.vn/may-tinh-bang/c1794?src=c.1789...\n",
              "...    ...                                                ...\n",
              "2200  2651  https://tiki.vn/the-thao/c1975?src=c.1975.hamb...\n",
              "2201  2652  https://tiki.vn/o-to-xe-may-xe-dap/c8594?src=c...\n",
              "2202  2653  https://tiki.vn/hang-quoc-te/c17166?src=c.1716...\n",
              "2203  2654  https://tiki.vn/nha-sach-tiki/c8322?src=c.8322...\n",
              "2204  2655  https://tiki.vn/voucher-dich-vu/c11312?src=c.1...\n",
              "\n",
              "[2205 rows x 2 columns]"
            ]
          },
          "metadata": {
            "tags": []
          },
          "execution_count": 10
        }
      ]
    },
    {
      "cell_type": "code",
      "metadata": {
        "id": "Yan0rI-NJk2J",
        "colab": {
          "base_uri": "https://localhost:8080/",
          "height": 509
        },
        "outputId": "8cfb49d0-5c77-43d1-a9ab-06f71c0a620b"
      },
      "source": [
        "query = '''\n",
        "SELECT COUNT(id)\n",
        "FROM categories\n",
        "WHERE parent_id <16\n",
        "GROUP BY parent_id\n",
        "'''\n",
        "pd.read_sql_query(query, conn)"
      ],
      "execution_count": 11,
      "outputs": [
        {
          "output_type": "execute_result",
          "data": {
            "text/html": [
              "<div>\n",
              "<style scoped>\n",
              "    .dataframe tbody tr th:only-of-type {\n",
              "        vertical-align: middle;\n",
              "    }\n",
              "\n",
              "    .dataframe tbody tr th {\n",
              "        vertical-align: top;\n",
              "    }\n",
              "\n",
              "    .dataframe thead th {\n",
              "        text-align: right;\n",
              "    }\n",
              "</style>\n",
              "<table border=\"1\" class=\"dataframe\">\n",
              "  <thead>\n",
              "    <tr style=\"text-align: right;\">\n",
              "      <th></th>\n",
              "      <th>COUNT(id)</th>\n",
              "    </tr>\n",
              "  </thead>\n",
              "  <tbody>\n",
              "    <tr>\n",
              "      <th>0</th>\n",
              "      <td>5</td>\n",
              "    </tr>\n",
              "    <tr>\n",
              "      <th>1</th>\n",
              "      <td>11</td>\n",
              "    </tr>\n",
              "    <tr>\n",
              "      <th>2</th>\n",
              "      <td>6</td>\n",
              "    </tr>\n",
              "    <tr>\n",
              "      <th>3</th>\n",
              "      <td>6</td>\n",
              "    </tr>\n",
              "    <tr>\n",
              "      <th>4</th>\n",
              "      <td>10</td>\n",
              "    </tr>\n",
              "    <tr>\n",
              "      <th>5</th>\n",
              "      <td>2</td>\n",
              "    </tr>\n",
              "    <tr>\n",
              "      <th>6</th>\n",
              "      <td>21</td>\n",
              "    </tr>\n",
              "    <tr>\n",
              "      <th>7</th>\n",
              "      <td>13</td>\n",
              "    </tr>\n",
              "    <tr>\n",
              "      <th>8</th>\n",
              "      <td>10</td>\n",
              "    </tr>\n",
              "    <tr>\n",
              "      <th>9</th>\n",
              "      <td>14</td>\n",
              "    </tr>\n",
              "    <tr>\n",
              "      <th>10</th>\n",
              "      <td>15</td>\n",
              "    </tr>\n",
              "    <tr>\n",
              "      <th>11</th>\n",
              "      <td>7</td>\n",
              "    </tr>\n",
              "    <tr>\n",
              "      <th>12</th>\n",
              "      <td>14</td>\n",
              "    </tr>\n",
              "    <tr>\n",
              "      <th>13</th>\n",
              "      <td>4</td>\n",
              "    </tr>\n",
              "    <tr>\n",
              "      <th>14</th>\n",
              "      <td>8</td>\n",
              "    </tr>\n",
              "  </tbody>\n",
              "</table>\n",
              "</div>"
            ],
            "text/plain": [
              "    COUNT(id)\n",
              "0           5\n",
              "1          11\n",
              "2           6\n",
              "3           6\n",
              "4          10\n",
              "5           2\n",
              "6          21\n",
              "7          13\n",
              "8          10\n",
              "9          14\n",
              "10         15\n",
              "11          7\n",
              "12         14\n",
              "13          4\n",
              "14          8"
            ]
          },
          "metadata": {
            "tags": []
          },
          "execution_count": 11
        }
      ]
    },
    {
      "cell_type": "code",
      "metadata": {
        "colab": {
          "base_uri": "https://localhost:8080/",
          "height": 110
        },
        "id": "xOSNI6E3mUjt",
        "outputId": "397cd824-f944-4f9e-b9ea-687fc0aa6033"
      },
      "source": [
        "query1 = '''\n",
        "SELECT * \n",
        "FROM categories\n",
        "LIMIT 2\n",
        "'''\n",
        "pd.read_sql_query(query1, conn)"
      ],
      "execution_count": 12,
      "outputs": [
        {
          "output_type": "execute_result",
          "data": {
            "text/html": [
              "<div>\n",
              "<style scoped>\n",
              "    .dataframe tbody tr th:only-of-type {\n",
              "        vertical-align: middle;\n",
              "    }\n",
              "\n",
              "    .dataframe tbody tr th {\n",
              "        vertical-align: top;\n",
              "    }\n",
              "\n",
              "    .dataframe thead th {\n",
              "        text-align: right;\n",
              "    }\n",
              "</style>\n",
              "<table border=\"1\" class=\"dataframe\">\n",
              "  <thead>\n",
              "    <tr style=\"text-align: right;\">\n",
              "      <th></th>\n",
              "      <th>id</th>\n",
              "      <th>name</th>\n",
              "      <th>url</th>\n",
              "      <th>parent_id</th>\n",
              "      <th>create_at</th>\n",
              "    </tr>\n",
              "  </thead>\n",
              "  <tbody>\n",
              "    <tr>\n",
              "      <th>0</th>\n",
              "      <td>1</td>\n",
              "      <td>Điện Thoại - Máy Tính Bảng</td>\n",
              "      <td>https://tiki.vn/dien-thoai-may-tinh-bang/c1789...</td>\n",
              "      <td>None</td>\n",
              "      <td>2021-04-09 14:52:20</td>\n",
              "    </tr>\n",
              "    <tr>\n",
              "      <th>1</th>\n",
              "      <td>2</td>\n",
              "      <td>Điện Tử - Điện Lạnh</td>\n",
              "      <td>https://tiki.vn/tivi-thiet-bi-nghe-nhin/c4221?...</td>\n",
              "      <td>None</td>\n",
              "      <td>2021-04-09 14:52:20</td>\n",
              "    </tr>\n",
              "  </tbody>\n",
              "</table>\n",
              "</div>"
            ],
            "text/plain": [
              "   id                        name  ... parent_id            create_at\n",
              "0   1  Điện Thoại - Máy Tính Bảng  ...      None  2021-04-09 14:52:20\n",
              "1   2         Điện Tử - Điện Lạnh  ...      None  2021-04-09 14:52:20\n",
              "\n",
              "[2 rows x 5 columns]"
            ]
          },
          "metadata": {
            "tags": []
          },
          "execution_count": 12
        }
      ]
    },
    {
      "cell_type": "code",
      "metadata": {
        "colab": {
          "base_uri": "https://localhost:8080/",
          "height": 251
        },
        "id": "cgdGA2Zuq4Fr",
        "outputId": "0f7401eb-9e38-470f-bad7-6daeccbb7694"
      },
      "source": [
        "query2 = '''\n",
        "SELECT * \n",
        "FROM products\n",
        "LIMIT 2'''\n",
        "pd.read_sql_query(query2, conn)"
      ],
      "execution_count": 13,
      "outputs": [
        {
          "output_type": "execute_result",
          "data": {
            "text/html": [
              "<div>\n",
              "<style scoped>\n",
              "    .dataframe tbody tr th:only-of-type {\n",
              "        vertical-align: middle;\n",
              "    }\n",
              "\n",
              "    .dataframe tbody tr th {\n",
              "        vertical-align: top;\n",
              "    }\n",
              "\n",
              "    .dataframe thead th {\n",
              "        text-align: right;\n",
              "    }\n",
              "</style>\n",
              "<table border=\"1\" class=\"dataframe\">\n",
              "  <thead>\n",
              "    <tr style=\"text-align: right;\">\n",
              "      <th></th>\n",
              "      <th>id</th>\n",
              "      <th>Product_name</th>\n",
              "      <th>sku</th>\n",
              "      <th>Price</th>\n",
              "      <th>Image</th>\n",
              "      <th>Product_URL</th>\n",
              "      <th>Reviews</th>\n",
              "      <th>Stars</th>\n",
              "      <th>Discount</th>\n",
              "      <th>Tikinow</th>\n",
              "      <th>Freeship</th>\n",
              "      <th>Badge_under_price</th>\n",
              "      <th>Installment</th>\n",
              "      <th>Gift</th>\n",
              "      <th>main_id</th>\n",
              "      <th>create_at</th>\n",
              "    </tr>\n",
              "  </thead>\n",
              "  <tbody>\n",
              "    <tr>\n",
              "      <th>0</th>\n",
              "      <td>1</td>\n",
              "      <td>Điện Thoại Oppo A12 (3GB/32GB) - Hàng Chính Hãng</td>\n",
              "      <td>8020626062208</td>\n",
              "      <td>2490000</td>\n",
              "      <td>https://salt.tikicdn.com/cache/280x280/ts/prod...</td>\n",
              "      <td>https://tiki.vn/dien-thoai-oppo-a12-3gb-32gb-h...</td>\n",
              "      <td>170</td>\n",
              "      <td>4.7</td>\n",
              "      <td>17</td>\n",
              "      <td>1</td>\n",
              "      <td>0</td>\n",
              "      <td>0</td>\n",
              "      <td>0</td>\n",
              "      <td>0</td>\n",
              "      <td>1</td>\n",
              "      <td>2021-04-11 15:38:17</td>\n",
              "    </tr>\n",
              "    <tr>\n",
              "      <th>1</th>\n",
              "      <td>2</td>\n",
              "      <td>Điện Thoại Realme C11 (2GB/32GB) - Hàng Chính ...</td>\n",
              "      <td>2480990721662</td>\n",
              "      <td>2149000</td>\n",
              "      <td>https://salt.tikicdn.com/cache/280x280/ts/prod...</td>\n",
              "      <td>https://tiki.vn/dien-thoai-realme-c11-2gb-32gb...</td>\n",
              "      <td>90</td>\n",
              "      <td>4.8</td>\n",
              "      <td>20</td>\n",
              "      <td>1</td>\n",
              "      <td>0</td>\n",
              "      <td>1</td>\n",
              "      <td>0</td>\n",
              "      <td>0</td>\n",
              "      <td>1</td>\n",
              "      <td>2021-04-11 15:38:17</td>\n",
              "    </tr>\n",
              "  </tbody>\n",
              "</table>\n",
              "</div>"
            ],
            "text/plain": [
              "   id  ...            create_at\n",
              "0   1  ...  2021-04-11 15:38:17\n",
              "1   2  ...  2021-04-11 15:38:17\n",
              "\n",
              "[2 rows x 16 columns]"
            ]
          },
          "metadata": {
            "tags": []
          },
          "execution_count": 13
        }
      ]
    },
    {
      "cell_type": "code",
      "metadata": {
        "colab": {
          "base_uri": "https://localhost:8080/",
          "height": 478
        },
        "id": "6EdZRgCGNLmM",
        "outputId": "8a30e451-3785-4c18-8ab3-72a60dbcc5f6"
      },
      "source": [
        "query1 = '''\n",
        "SELECT c.name as Category, COUNT(p.id) as Number_of_products\n",
        "FROM products as p\n",
        "JOIN categories as c ON p.main_id = c.id\n",
        "GROUP BY p.main_id\n",
        "'''\n",
        "pd.read_sql_query(query1, conn)"
      ],
      "execution_count": 14,
      "outputs": [
        {
          "output_type": "execute_result",
          "data": {
            "text/html": [
              "<div>\n",
              "<style scoped>\n",
              "    .dataframe tbody tr th:only-of-type {\n",
              "        vertical-align: middle;\n",
              "    }\n",
              "\n",
              "    .dataframe tbody tr th {\n",
              "        vertical-align: top;\n",
              "    }\n",
              "\n",
              "    .dataframe thead th {\n",
              "        text-align: right;\n",
              "    }\n",
              "</style>\n",
              "<table border=\"1\" class=\"dataframe\">\n",
              "  <thead>\n",
              "    <tr style=\"text-align: right;\">\n",
              "      <th></th>\n",
              "      <th>Category</th>\n",
              "      <th>Number_of_products</th>\n",
              "    </tr>\n",
              "  </thead>\n",
              "  <tbody>\n",
              "    <tr>\n",
              "      <th>0</th>\n",
              "      <td>Điện Thoại - Máy Tính Bảng</td>\n",
              "      <td>365</td>\n",
              "    </tr>\n",
              "    <tr>\n",
              "      <th>1</th>\n",
              "      <td>Điện Tử - Điện Lạnh</td>\n",
              "      <td>1731</td>\n",
              "    </tr>\n",
              "    <tr>\n",
              "      <th>2</th>\n",
              "      <td>Phụ Kiện - Thiết Bị Số</td>\n",
              "      <td>1486</td>\n",
              "    </tr>\n",
              "    <tr>\n",
              "      <th>3</th>\n",
              "      <td>Laptop - Thiết bị IT</td>\n",
              "      <td>2761</td>\n",
              "    </tr>\n",
              "    <tr>\n",
              "      <th>4</th>\n",
              "      <td>Máy Ảnh - Quay Phim</td>\n",
              "      <td>3710</td>\n",
              "    </tr>\n",
              "    <tr>\n",
              "      <th>5</th>\n",
              "      <td>Điện Gia Dụng</td>\n",
              "      <td>1761</td>\n",
              "    </tr>\n",
              "    <tr>\n",
              "      <th>6</th>\n",
              "      <td>Nhà Cửa Đời Sống</td>\n",
              "      <td>15186</td>\n",
              "    </tr>\n",
              "    <tr>\n",
              "      <th>7</th>\n",
              "      <td>Hàng Tiêu Dùng - Thực Phẩm</td>\n",
              "      <td>2189</td>\n",
              "    </tr>\n",
              "    <tr>\n",
              "      <th>8</th>\n",
              "      <td>Đồ chơi, Mẹ &amp; Bé</td>\n",
              "      <td>2423</td>\n",
              "    </tr>\n",
              "    <tr>\n",
              "      <th>9</th>\n",
              "      <td>Làm Đẹp - Sức Khỏe</td>\n",
              "      <td>5175</td>\n",
              "    </tr>\n",
              "    <tr>\n",
              "      <th>10</th>\n",
              "      <td>Thể Thao - Dã Ngoại</td>\n",
              "      <td>6018</td>\n",
              "    </tr>\n",
              "    <tr>\n",
              "      <th>11</th>\n",
              "      <td>Xe Máy, Ô tô, Xe Đạp</td>\n",
              "      <td>914</td>\n",
              "    </tr>\n",
              "    <tr>\n",
              "      <th>12</th>\n",
              "      <td>Hàng quốc tế</td>\n",
              "      <td>336</td>\n",
              "    </tr>\n",
              "    <tr>\n",
              "      <th>13</th>\n",
              "      <td>Voucher - Dịch Vụ - Thẻ Cào</td>\n",
              "      <td>124</td>\n",
              "    </tr>\n",
              "  </tbody>\n",
              "</table>\n",
              "</div>"
            ],
            "text/plain": [
              "                       Category  Number_of_products\n",
              "0    Điện Thoại - Máy Tính Bảng                 365\n",
              "1           Điện Tử - Điện Lạnh                1731\n",
              "2        Phụ Kiện - Thiết Bị Số                1486\n",
              "3          Laptop - Thiết bị IT                2761\n",
              "4           Máy Ảnh - Quay Phim                3710\n",
              "5                 Điện Gia Dụng                1761\n",
              "6              Nhà Cửa Đời Sống               15186\n",
              "7    Hàng Tiêu Dùng - Thực Phẩm                2189\n",
              "8              Đồ chơi, Mẹ & Bé                2423\n",
              "9            Làm Đẹp - Sức Khỏe                5175\n",
              "10          Thể Thao - Dã Ngoại                6018\n",
              "11         Xe Máy, Ô tô, Xe Đạp                 914\n",
              "12                 Hàng quốc tế                 336\n",
              "13  Voucher - Dịch Vụ - Thẻ Cào                 124"
            ]
          },
          "metadata": {
            "tags": []
          },
          "execution_count": 14
        }
      ]
    },
    {
      "cell_type": "code",
      "metadata": {
        "colab": {
          "base_uri": "https://localhost:8080/",
          "height": 297
        },
        "id": "MA5CRPrtxDi_",
        "outputId": "42318846-da09-4ddb-ba58-692a286589ba"
      },
      "source": [
        "#Total product for each group\n",
        "query1 = '''\n",
        "SELECT c.name as Category, COUNT(p.id) as Number_of_products\n",
        "FROM products as p\n",
        "JOIN categories as c ON p.main_id = c.id\n",
        "GROUP BY p.main_id\n",
        "\n",
        "'''\n",
        "df = pd.read_sql_query(query1, conn)\n",
        "sns.barplot(data=df, y='Category', x = 'Number_of_products')"
      ],
      "execution_count": 15,
      "outputs": [
        {
          "output_type": "execute_result",
          "data": {
            "text/plain": [
              "<matplotlib.axes._subplots.AxesSubplot at 0x7f41a8b58a50>"
            ]
          },
          "metadata": {
            "tags": []
          },
          "execution_count": 15
        },
        {
          "output_type": "display_data",
          "data": {
            "image/png": "[encoded data removed]",
            "text/plain": [
              "<Figure size 432x288 with 1 Axes>"
            ]
          },
          "metadata": {
            "tags": [],
            "needs_background": "light"
          }
        }
      ]
    },
    {
      "cell_type": "code",
      "metadata": {
        "colab": {
          "base_uri": "https://localhost:8080/",
          "height": 478
        },
        "id": "H-NMUsQorFi3",
        "outputId": "b30fbaae-d8f8-4837-912e-85e69e2d5fb7"
      },
      "source": [
        "#Most expensive of each group\n",
        "query2 = '''\n",
        "SELECT p.Product_name, MAX(p.price) as Most_expensive, c.name as Category\n",
        "FROM products as p\n",
        "JOIN categories as c WHERE p.main_id = c.id\n",
        "GROUP BY p.main_id\n",
        "'''\n",
        "pd.read_sql_query(query2, conn)"
      ],
      "execution_count": 16,
      "outputs": [
        {
          "output_type": "execute_result",
          "data": {
            "text/html": [
              "<div>\n",
              "<style scoped>\n",
              "    .dataframe tbody tr th:only-of-type {\n",
              "        vertical-align: middle;\n",
              "    }\n",
              "\n",
              "    .dataframe tbody tr th {\n",
              "        vertical-align: top;\n",
              "    }\n",
              "\n",
              "    .dataframe thead th {\n",
              "        text-align: right;\n",
              "    }\n",
              "</style>\n",
              "<table border=\"1\" class=\"dataframe\">\n",
              "  <thead>\n",
              "    <tr style=\"text-align: right;\">\n",
              "      <th></th>\n",
              "      <th>Product_name</th>\n",
              "      <th>Most_expensive</th>\n",
              "      <th>Category</th>\n",
              "    </tr>\n",
              "  </thead>\n",
              "  <tbody>\n",
              "    <tr>\n",
              "      <th>0</th>\n",
              "      <td>Surface Pro 6 Intel Core I7 Ram 16GB SSD 1TB (...</td>\n",
              "      <td>55880000</td>\n",
              "      <td>Điện Thoại - Máy Tính Bảng</td>\n",
              "    </tr>\n",
              "    <tr>\n",
              "      <th>1</th>\n",
              "      <td>Android Tivi Sharp 8K 80 inch 8T-80AX1X</td>\n",
              "      <td>356390000</td>\n",
              "      <td>Điện Tử - Điện Lạnh</td>\n",
              "    </tr>\n",
              "    <tr>\n",
              "      <th>2</th>\n",
              "      <td>Bộ Giải Mã DAC Và Amply Headphone Sennheiser H...</td>\n",
              "      <td>65254000</td>\n",
              "      <td>Phụ Kiện - Thiết Bị Số</td>\n",
              "    </tr>\n",
              "    <tr>\n",
              "      <th>3</th>\n",
              "      <td>Thiết bị hội nghị truyền hình Cisco Webex Room...</td>\n",
              "      <td>144100000</td>\n",
              "      <td>Laptop - Thiết bị IT</td>\n",
              "    </tr>\n",
              "    <tr>\n",
              "      <th>4</th>\n",
              "      <td>Máy Quay Canon EOS C300 MK II - Hàng Chính Hãng</td>\n",
              "      <td>252000000</td>\n",
              "      <td>Máy Ảnh - Quay Phim</td>\n",
              "    </tr>\n",
              "    <tr>\n",
              "      <th>5</th>\n",
              "      <td>Máy làm kem Ý MEHEN M5 2300W - Hàng Nhập Khẩu</td>\n",
              "      <td>150000000</td>\n",
              "      <td>Điện Gia Dụng</td>\n",
              "    </tr>\n",
              "    <tr>\n",
              "      <th>6</th>\n",
              "      <td>ĐÀN PIANO ĐIỆN YAMAHA CVP 705</td>\n",
              "      <td>118000000</td>\n",
              "      <td>Nhà Cửa Đời Sống</td>\n",
              "    </tr>\n",
              "    <tr>\n",
              "      <th>7</th>\n",
              "      <td>Quà tặng 2020,chậu sen 6 nhánh mạ vàng 24k</td>\n",
              "      <td>7900000</td>\n",
              "      <td>Hàng Tiêu Dùng - Thực Phẩm</td>\n",
              "    </tr>\n",
              "    <tr>\n",
              "      <th>8</th>\n",
              "      <td>Bộ Cờ Tướng Cờ Đồng Cao Cấp // Premium Brass C...</td>\n",
              "      <td>3500000</td>\n",
              "      <td>Đồ chơi, Mẹ &amp; Bé</td>\n",
              "    </tr>\n",
              "    <tr>\n",
              "      <th>9</th>\n",
              "      <td>Ghế Massage Toàn Thân Cao Cấp OSUN SK-69 Tặng ...</td>\n",
              "      <td>68900000</td>\n",
              "      <td>Làm Đẹp - Sức Khỏe</td>\n",
              "    </tr>\n",
              "    <tr>\n",
              "      <th>10</th>\n",
              "      <td>Máy Tập Chạy Bộ Tiger Sport TG-1300</td>\n",
              "      <td>45500000</td>\n",
              "      <td>Thể Thao - Dã Ngoại</td>\n",
              "    </tr>\n",
              "    <tr>\n",
              "      <th>11</th>\n",
              "      <td>Xe Máy Yamaha MT03</td>\n",
              "      <td>141200000</td>\n",
              "      <td>Xe Máy, Ô tô, Xe Đạp</td>\n",
              "    </tr>\n",
              "    <tr>\n",
              "      <th>12</th>\n",
              "      <td>Nắp Bồn Cầu Thông Minh Xiaomi Smartmi</td>\n",
              "      <td>4639000</td>\n",
              "      <td>Hàng quốc tế</td>\n",
              "    </tr>\n",
              "    <tr>\n",
              "      <th>13</th>\n",
              "      <td>Lập trình Ứng Dụng (App) trên điện thoại Andro...</td>\n",
              "      <td>20000000</td>\n",
              "      <td>Voucher - Dịch Vụ - Thẻ Cào</td>\n",
              "    </tr>\n",
              "  </tbody>\n",
              "</table>\n",
              "</div>"
            ],
            "text/plain": [
              "                                         Product_name  ...                     Category\n",
              "0   Surface Pro 6 Intel Core I7 Ram 16GB SSD 1TB (...  ...   Điện Thoại - Máy Tính Bảng\n",
              "1             Android Tivi Sharp 8K 80 inch 8T-80AX1X  ...          Điện Tử - Điện Lạnh\n",
              "2   Bộ Giải Mã DAC Và Amply Headphone Sennheiser H...  ...       Phụ Kiện - Thiết Bị Số\n",
              "3   Thiết bị hội nghị truyền hình Cisco Webex Room...  ...         Laptop - Thiết bị IT\n",
              "4     Máy Quay Canon EOS C300 MK II - Hàng Chính Hãng  ...          Máy Ảnh - Quay Phim\n",
              "5       Máy làm kem Ý MEHEN M5 2300W - Hàng Nhập Khẩu  ...                Điện Gia Dụng\n",
              "6                       ĐÀN PIANO ĐIỆN YAMAHA CVP 705  ...             Nhà Cửa Đời Sống\n",
              "7          Quà tặng 2020,chậu sen 6 nhánh mạ vàng 24k  ...   Hàng Tiêu Dùng - Thực Phẩm\n",
              "8   Bộ Cờ Tướng Cờ Đồng Cao Cấp // Premium Brass C...  ...             Đồ chơi, Mẹ & Bé\n",
              "9   Ghế Massage Toàn Thân Cao Cấp OSUN SK-69 Tặng ...  ...           Làm Đẹp - Sức Khỏe\n",
              "10               Máy Tập Chạy Bộ Tiger Sport TG-1300   ...          Thể Thao - Dã Ngoại\n",
              "11                                 Xe Máy Yamaha MT03  ...         Xe Máy, Ô tô, Xe Đạp\n",
              "12              Nắp Bồn Cầu Thông Minh Xiaomi Smartmi  ...                 Hàng quốc tế\n",
              "13  Lập trình Ứng Dụng (App) trên điện thoại Andro...  ...  Voucher - Dịch Vụ - Thẻ Cào\n",
              "\n",
              "[14 rows x 3 columns]"
            ]
          },
          "metadata": {
            "tags": []
          },
          "execution_count": 16
        }
      ]
    },
    {
      "cell_type": "code",
      "metadata": {
        "colab": {
          "base_uri": "https://localhost:8080/",
          "height": 79
        },
        "id": "Jc50bRTJwIKX",
        "outputId": "cea0fa19-db26-4757-d91c-5f5dfb20137e"
      },
      "source": [
        "#Biggest discount items for each category\n",
        "query4 = '''\n",
        "WITH discount AS\n",
        "(SELECT c.name as Category, AVG(Discount) as avg_discount\n",
        "FROM products as p\n",
        "JOIN categories as c WHERE p.main_id = c.id\n",
        "GROUP BY p.main_id)\n",
        "\n",
        "SELECT Category, MAX(avg_discount) as Max_discount\n",
        "FROM discount\n",
        "'''\n",
        "pd.read_sql_query(query4, conn)"
      ],
      "execution_count": 17,
      "outputs": [
        {
          "output_type": "execute_result",
          "data": {
            "text/html": [
              "<div>\n",
              "<style scoped>\n",
              "    .dataframe tbody tr th:only-of-type {\n",
              "        vertical-align: middle;\n",
              "    }\n",
              "\n",
              "    .dataframe tbody tr th {\n",
              "        vertical-align: top;\n",
              "    }\n",
              "\n",
              "    .dataframe thead th {\n",
              "        text-align: right;\n",
              "    }\n",
              "</style>\n",
              "<table border=\"1\" class=\"dataframe\">\n",
              "  <thead>\n",
              "    <tr style=\"text-align: right;\">\n",
              "      <th></th>\n",
              "      <th>Category</th>\n",
              "      <th>Max_discount</th>\n",
              "    </tr>\n",
              "  </thead>\n",
              "  <tbody>\n",
              "    <tr>\n",
              "      <th>0</th>\n",
              "      <td>Hàng quốc tế</td>\n",
              "      <td>43.264881</td>\n",
              "    </tr>\n",
              "  </tbody>\n",
              "</table>\n",
              "</div>"
            ],
            "text/plain": [
              "       Category  Max_discount\n",
              "0  Hàng quốc tế     43.264881"
            ]
          },
          "metadata": {
            "tags": []
          },
          "execution_count": 17
        }
      ]
    },
    {
      "cell_type": "code",
      "metadata": {
        "colab": {
          "base_uri": "https://localhost:8080/",
          "height": 478
        },
        "id": "WaIKC1EewVbW",
        "outputId": "ee98aca5-4081-4fa3-e734-97f720e2e903"
      },
      "source": [
        "#discount average\n",
        "query2 = '''\n",
        "SELECT AVG(p.Discount) as avg_discount, c.name as Category\n",
        "FROM products as p\n",
        "JOIN categories as c WHERE p.main_id = c.id\n",
        "GROUP BY p.main_id\n",
        "'''\n",
        "pd.read_sql_query(query2, conn)"
      ],
      "execution_count": 18,
      "outputs": [
        {
          "output_type": "execute_result",
          "data": {
            "text/html": [
              "<div>\n",
              "<style scoped>\n",
              "    .dataframe tbody tr th:only-of-type {\n",
              "        vertical-align: middle;\n",
              "    }\n",
              "\n",
              "    .dataframe tbody tr th {\n",
              "        vertical-align: top;\n",
              "    }\n",
              "\n",
              "    .dataframe thead th {\n",
              "        text-align: right;\n",
              "    }\n",
              "</style>\n",
              "<table border=\"1\" class=\"dataframe\">\n",
              "  <thead>\n",
              "    <tr style=\"text-align: right;\">\n",
              "      <th></th>\n",
              "      <th>avg_discount</th>\n",
              "      <th>Category</th>\n",
              "    </tr>\n",
              "  </thead>\n",
              "  <tbody>\n",
              "    <tr>\n",
              "      <th>0</th>\n",
              "      <td>22.115068</td>\n",
              "      <td>Điện Thoại - Máy Tính Bảng</td>\n",
              "    </tr>\n",
              "    <tr>\n",
              "      <th>1</th>\n",
              "      <td>32.043905</td>\n",
              "      <td>Điện Tử - Điện Lạnh</td>\n",
              "    </tr>\n",
              "    <tr>\n",
              "      <th>2</th>\n",
              "      <td>37.724092</td>\n",
              "      <td>Phụ Kiện - Thiết Bị Số</td>\n",
              "    </tr>\n",
              "    <tr>\n",
              "      <th>3</th>\n",
              "      <td>25.063021</td>\n",
              "      <td>Laptop - Thiết bị IT</td>\n",
              "    </tr>\n",
              "    <tr>\n",
              "      <th>4</th>\n",
              "      <td>30.440431</td>\n",
              "      <td>Máy Ảnh - Quay Phim</td>\n",
              "    </tr>\n",
              "    <tr>\n",
              "      <th>5</th>\n",
              "      <td>29.511073</td>\n",
              "      <td>Điện Gia Dụng</td>\n",
              "    </tr>\n",
              "    <tr>\n",
              "      <th>6</th>\n",
              "      <td>33.515936</td>\n",
              "      <td>Nhà Cửa Đời Sống</td>\n",
              "    </tr>\n",
              "    <tr>\n",
              "      <th>7</th>\n",
              "      <td>19.201005</td>\n",
              "      <td>Hàng Tiêu Dùng - Thực Phẩm</td>\n",
              "    </tr>\n",
              "    <tr>\n",
              "      <th>8</th>\n",
              "      <td>22.813867</td>\n",
              "      <td>Đồ chơi, Mẹ &amp; Bé</td>\n",
              "    </tr>\n",
              "    <tr>\n",
              "      <th>9</th>\n",
              "      <td>27.056039</td>\n",
              "      <td>Làm Đẹp - Sức Khỏe</td>\n",
              "    </tr>\n",
              "    <tr>\n",
              "      <th>10</th>\n",
              "      <td>30.229312</td>\n",
              "      <td>Thể Thao - Dã Ngoại</td>\n",
              "    </tr>\n",
              "    <tr>\n",
              "      <th>11</th>\n",
              "      <td>13.683807</td>\n",
              "      <td>Xe Máy, Ô tô, Xe Đạp</td>\n",
              "    </tr>\n",
              "    <tr>\n",
              "      <th>12</th>\n",
              "      <td>43.264881</td>\n",
              "      <td>Hàng quốc tế</td>\n",
              "    </tr>\n",
              "    <tr>\n",
              "      <th>13</th>\n",
              "      <td>13.209677</td>\n",
              "      <td>Voucher - Dịch Vụ - Thẻ Cào</td>\n",
              "    </tr>\n",
              "  </tbody>\n",
              "</table>\n",
              "</div>"
            ],
            "text/plain": [
              "    avg_discount                     Category\n",
              "0      22.115068   Điện Thoại - Máy Tính Bảng\n",
              "1      32.043905          Điện Tử - Điện Lạnh\n",
              "2      37.724092       Phụ Kiện - Thiết Bị Số\n",
              "3      25.063021         Laptop - Thiết bị IT\n",
              "4      30.440431          Máy Ảnh - Quay Phim\n",
              "5      29.511073                Điện Gia Dụng\n",
              "6      33.515936             Nhà Cửa Đời Sống\n",
              "7      19.201005   Hàng Tiêu Dùng - Thực Phẩm\n",
              "8      22.813867             Đồ chơi, Mẹ & Bé\n",
              "9      27.056039           Làm Đẹp - Sức Khỏe\n",
              "10     30.229312          Thể Thao - Dã Ngoại\n",
              "11     13.683807         Xe Máy, Ô tô, Xe Đạp\n",
              "12     43.264881                 Hàng quốc tế\n",
              "13     13.209677  Voucher - Dịch Vụ - Thẻ Cào"
            ]
          },
          "metadata": {
            "tags": []
          },
          "execution_count": 18
        }
      ]
    },
    {
      "cell_type": "code",
      "metadata": {
        "colab": {
          "base_uri": "https://localhost:8080/",
          "height": 297
        },
        "id": "-BIAKhqGrQij",
        "outputId": "ae27bdb0-3193-4420-c1be-848aa94ee776"
      },
      "source": [
        "#Number of reviews for each Category\n",
        "query = '''\n",
        "SELECT c.name as Category, COUNT(p.Reviews) as Number_of_reviews\n",
        "FROM products as p\n",
        "JOIN categories as c ON p.main_id = c.id\n",
        "GROUP BY Category\n",
        "'''\n",
        "df  = pd.read_sql_query(query, conn)\n",
        "sns.barplot(data=df, x ='Number_of_reviews', y ='Category')"
      ],
      "execution_count": 19,
      "outputs": [
        {
          "output_type": "execute_result",
          "data": {
            "text/plain": [
              "<matplotlib.axes._subplots.AxesSubplot at 0x7f41a7b9a8d0>"
            ]
          },
          "metadata": {
            "tags": []
          },
          "execution_count": 19
        },
        {
          "output_type": "display_data",
          "data": {
            "image/png": "[encoded data removed]",
            "text/plain": [
              "<Figure size 432x288 with 1 Axes>"
            ]
          },
          "metadata": {
            "tags": [],
            "needs_background": "light"
          }
        }
      ]
    },
    {
      "cell_type": "code",
      "metadata": {
        "colab": {
          "base_uri": "https://localhost:8080/",
          "height": 297
        },
        "id": "T8HWH8g--VYf",
        "outputId": "f8c09ed8-d9f0-4a2d-acfb-9e254ebc01e5"
      },
      "source": [
        "#Average price of each group \n",
        "query5 = '''\n",
        "SELECT AVG(p.price) as average_price, c.name as Category\n",
        "FROM products as p\n",
        "JOIN categories as c ON p.main_id = c.id\n",
        "GROUP BY p.main_id\n",
        "'''\n",
        "df = pd.read_sql_query(query5, conn)\n",
        "sns.barplot(data =df, x = 'average_price', y = 'Category')"
      ],
      "execution_count": 20,
      "outputs": [
        {
          "output_type": "execute_result",
          "data": {
            "text/plain": [
              "<matplotlib.axes._subplots.AxesSubplot at 0x7f41a7481750>"
            ]
          },
          "metadata": {
            "tags": []
          },
          "execution_count": 20
        },
        {
          "output_type": "display_data",
          "data": {
            "image/png": "[encoded data removed]",
            "text/plain": [
              "<Figure size 432x288 with 1 Axes>"
            ]
          },
          "metadata": {
            "tags": [],
            "needs_background": "light"
          }
        }
      ]
    },
    {
      "cell_type": "code",
      "metadata": {
        "colab": {
          "base_uri": "https://localhost:8080/",
          "height": 478
        },
        "id": "Ch5H4pAbCCav",
        "outputId": "7ff3dacc-4cda-40bd-ad7d-301c88502224"
      },
      "source": [
        "query5 = '''\n",
        "SELECT AVG(p.price) as average_price, c.name as Category\n",
        "FROM products as p\n",
        "JOIN categories as c ON p.main_id = c.id\n",
        "GROUP BY p.main_id\n",
        "'''\n",
        "pd.read_sql_query(query5, conn)"
      ],
      "execution_count": 21,
      "outputs": [
        {
          "output_type": "execute_result",
          "data": {
            "text/html": [
              "<div>\n",
              "<style scoped>\n",
              "    .dataframe tbody tr th:only-of-type {\n",
              "        vertical-align: middle;\n",
              "    }\n",
              "\n",
              "    .dataframe tbody tr th {\n",
              "        vertical-align: top;\n",
              "    }\n",
              "\n",
              "    .dataframe thead th {\n",
              "        text-align: right;\n",
              "    }\n",
              "</style>\n",
              "<table border=\"1\" class=\"dataframe\">\n",
              "  <thead>\n",
              "    <tr style=\"text-align: right;\">\n",
              "      <th></th>\n",
              "      <th>average_price</th>\n",
              "      <th>Category</th>\n",
              "    </tr>\n",
              "  </thead>\n",
              "  <tbody>\n",
              "    <tr>\n",
              "      <th>0</th>\n",
              "      <td>4.379218e+06</td>\n",
              "      <td>Điện Thoại - Máy Tính Bảng</td>\n",
              "    </tr>\n",
              "    <tr>\n",
              "      <th>1</th>\n",
              "      <td>9.781150e+06</td>\n",
              "      <td>Điện Tử - Điện Lạnh</td>\n",
              "    </tr>\n",
              "    <tr>\n",
              "      <th>2</th>\n",
              "      <td>9.970586e+05</td>\n",
              "      <td>Phụ Kiện - Thiết Bị Số</td>\n",
              "    </tr>\n",
              "    <tr>\n",
              "      <th>3</th>\n",
              "      <td>5.059068e+06</td>\n",
              "      <td>Laptop - Thiết bị IT</td>\n",
              "    </tr>\n",
              "    <tr>\n",
              "      <th>4</th>\n",
              "      <td>3.026329e+06</td>\n",
              "      <td>Máy Ảnh - Quay Phim</td>\n",
              "    </tr>\n",
              "    <tr>\n",
              "      <th>5</th>\n",
              "      <td>3.237169e+06</td>\n",
              "      <td>Điện Gia Dụng</td>\n",
              "    </tr>\n",
              "    <tr>\n",
              "      <th>6</th>\n",
              "      <td>7.567388e+05</td>\n",
              "      <td>Nhà Cửa Đời Sống</td>\n",
              "    </tr>\n",
              "    <tr>\n",
              "      <th>7</th>\n",
              "      <td>2.145506e+05</td>\n",
              "      <td>Hàng Tiêu Dùng - Thực Phẩm</td>\n",
              "    </tr>\n",
              "    <tr>\n",
              "      <th>8</th>\n",
              "      <td>2.608011e+05</td>\n",
              "      <td>Đồ chơi, Mẹ &amp; Bé</td>\n",
              "    </tr>\n",
              "    <tr>\n",
              "      <th>9</th>\n",
              "      <td>4.511614e+05</td>\n",
              "      <td>Làm Đẹp - Sức Khỏe</td>\n",
              "    </tr>\n",
              "    <tr>\n",
              "      <th>10</th>\n",
              "      <td>8.327204e+05</td>\n",
              "      <td>Thể Thao - Dã Ngoại</td>\n",
              "    </tr>\n",
              "    <tr>\n",
              "      <th>11</th>\n",
              "      <td>1.790320e+07</td>\n",
              "      <td>Xe Máy, Ô tô, Xe Đạp</td>\n",
              "    </tr>\n",
              "    <tr>\n",
              "      <th>12</th>\n",
              "      <td>3.585945e+05</td>\n",
              "      <td>Hàng quốc tế</td>\n",
              "    </tr>\n",
              "    <tr>\n",
              "      <th>13</th>\n",
              "      <td>1.176250e+06</td>\n",
              "      <td>Voucher - Dịch Vụ - Thẻ Cào</td>\n",
              "    </tr>\n",
              "  </tbody>\n",
              "</table>\n",
              "</div>"
            ],
            "text/plain": [
              "    average_price                     Category\n",
              "0    4.379218e+06   Điện Thoại - Máy Tính Bảng\n",
              "1    9.781150e+06          Điện Tử - Điện Lạnh\n",
              "2    9.970586e+05       Phụ Kiện - Thiết Bị Số\n",
              "3    5.059068e+06         Laptop - Thiết bị IT\n",
              "4    3.026329e+06          Máy Ảnh - Quay Phim\n",
              "5    3.237169e+06                Điện Gia Dụng\n",
              "6    7.567388e+05             Nhà Cửa Đời Sống\n",
              "7    2.145506e+05   Hàng Tiêu Dùng - Thực Phẩm\n",
              "8    2.608011e+05             Đồ chơi, Mẹ & Bé\n",
              "9    4.511614e+05           Làm Đẹp - Sức Khỏe\n",
              "10   8.327204e+05          Thể Thao - Dã Ngoại\n",
              "11   1.790320e+07         Xe Máy, Ô tô, Xe Đạp\n",
              "12   3.585945e+05                 Hàng quốc tế\n",
              "13   1.176250e+06  Voucher - Dịch Vụ - Thẻ Cào"
            ]
          },
          "metadata": {
            "tags": []
          },
          "execution_count": 21
        }
      ]
    },
    {
      "cell_type": "code",
      "metadata": {
        "id": "GJDR8Vjb_1Cg"
      },
      "source": [
        ""
      ],
      "execution_count": null,
      "outputs": []
    }
  ]
}