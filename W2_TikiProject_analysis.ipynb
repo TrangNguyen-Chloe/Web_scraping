{
  "nbformat": 4,
  "nbformat_minor": 0,
  "metadata": {
    "colab": {
      "name": "W2_TikiProject_analysis.ipynb",
      "provenance": [],
      "collapsed_sections": []
    },
    "kernelspec": {
      "name": "python3",
      "display_name": "Python 3"
    },
    "language_info": {
      "name": "python"
    }
  },
  "cells": [
    {
      "cell_type": "code",
      "metadata": {
        "id": "2IGq7nak9rTE"
      },
      "source": [
        "!wget -q '/content/tiki_scraping.db'"
      ],
      "execution_count": 109,
      "outputs": []
    },
    {
      "cell_type": "code",
      "metadata": {
        "id": "6Ix0K3n49_l9"
      },
      "source": [
        "import sqlite3\n",
        "conn = sqlite3.connect('tiki_scraping.db')\n",
        "import pandas as pd\n",
        "import seaborn as sns"
      ],
      "execution_count": 110,
      "outputs": []
    },
    {
      "cell_type": "code",
      "metadata": {
        "colab": {
          "base_uri": "https://localhost:8080/",
          "height": 417
        },
        "id": "ugbr72bJAErb",
        "outputId": "b1d9b579-7e38-47d9-845e-58d6ac228085"
      },
      "source": [
        "query = '''\n",
        "SELECT url\n",
        "FROM categories a\n",
        "\n",
        "'''\n",
        "pd.read_sql_query(query, conn)"
      ],
      "execution_count": null,
      "outputs": [
        {
          "output_type": "execute_result",
          "data": {
            "text/html": [
              "<div>\n",
              "<style scoped>\n",
              "    .dataframe tbody tr th:only-of-type {\n",
              "        vertical-align: middle;\n",
              "    }\n",
              "\n",
              "    .dataframe tbody tr th {\n",
              "        vertical-align: top;\n",
              "    }\n",
              "\n",
              "    .dataframe thead th {\n",
              "        text-align: right;\n",
              "    }\n",
              "</style>\n",
              "<table border=\"1\" class=\"dataframe\">\n",
              "  <thead>\n",
              "    <tr style=\"text-align: right;\">\n",
              "      <th></th>\n",
              "      <th>url</th>\n",
              "    </tr>\n",
              "  </thead>\n",
              "  <tbody>\n",
              "    <tr>\n",
              "      <th>0</th>\n",
              "      <td>https://tiki.vn/dien-thoai-may-tinh-bang/c1789...</td>\n",
              "    </tr>\n",
              "    <tr>\n",
              "      <th>1</th>\n",
              "      <td>https://tiki.vn/tivi-thiet-bi-nghe-nhin/c4221?...</td>\n",
              "    </tr>\n",
              "    <tr>\n",
              "      <th>2</th>\n",
              "      <td>https://tiki.vn/thiet-bi-kts-phu-kien-so/c1815...</td>\n",
              "    </tr>\n",
              "    <tr>\n",
              "      <th>3</th>\n",
              "      <td>https://tiki.vn/laptop-may-vi-tinh/c1846?src=c...</td>\n",
              "    </tr>\n",
              "    <tr>\n",
              "      <th>4</th>\n",
              "      <td>https://tiki.vn/may-anh/c1801?src=c.1801.hambu...</td>\n",
              "    </tr>\n",
              "    <tr>\n",
              "      <th>...</th>\n",
              "      <td>...</td>\n",
              "    </tr>\n",
              "    <tr>\n",
              "      <th>2649</th>\n",
              "      <td>https://tiki.vn/the-thao/c1975?src=c.1975.hamb...</td>\n",
              "    </tr>\n",
              "    <tr>\n",
              "      <th>2650</th>\n",
              "      <td>https://tiki.vn/o-to-xe-may-xe-dap/c8594?src=c...</td>\n",
              "    </tr>\n",
              "    <tr>\n",
              "      <th>2651</th>\n",
              "      <td>https://tiki.vn/hang-quoc-te/c17166?src=c.1716...</td>\n",
              "    </tr>\n",
              "    <tr>\n",
              "      <th>2652</th>\n",
              "      <td>https://tiki.vn/nha-sach-tiki/c8322?src=c.8322...</td>\n",
              "    </tr>\n",
              "    <tr>\n",
              "      <th>2653</th>\n",
              "      <td>https://tiki.vn/voucher-dich-vu/c11312?src=c.1...</td>\n",
              "    </tr>\n",
              "  </tbody>\n",
              "</table>\n",
              "<p>2654 rows × 1 columns</p>\n",
              "</div>"
            ],
            "text/plain": [
              "                                                    url\n",
              "0     https://tiki.vn/dien-thoai-may-tinh-bang/c1789...\n",
              "1     https://tiki.vn/tivi-thiet-bi-nghe-nhin/c4221?...\n",
              "2     https://tiki.vn/thiet-bi-kts-phu-kien-so/c1815...\n",
              "3     https://tiki.vn/laptop-may-vi-tinh/c1846?src=c...\n",
              "4     https://tiki.vn/may-anh/c1801?src=c.1801.hambu...\n",
              "...                                                 ...\n",
              "2649  https://tiki.vn/the-thao/c1975?src=c.1975.hamb...\n",
              "2650  https://tiki.vn/o-to-xe-may-xe-dap/c8594?src=c...\n",
              "2651  https://tiki.vn/hang-quoc-te/c17166?src=c.1716...\n",
              "2652  https://tiki.vn/nha-sach-tiki/c8322?src=c.8322...\n",
              "2653  https://tiki.vn/voucher-dich-vu/c11312?src=c.1...\n",
              "\n",
              "[2654 rows x 1 columns]"
            ]
          },
          "metadata": {
            "tags": []
          },
          "execution_count": 3
        }
      ]
    },
    {
      "cell_type": "code",
      "metadata": {
        "colab": {
          "base_uri": "https://localhost:8080/",
          "height": 417
        },
        "id": "7vgEHsZW-KMC",
        "outputId": "3720d656-97e0-4e75-fe25-edc4093109b5"
      },
      "source": [
        "query = '''\n",
        "WITH lowest_sub as \n",
        "(SELECT a.id as parent, a.url as url, b.id as child\n",
        "FROM categories as a\n",
        "LEFT JOIN categories as b ON a.id = b.parent_id\n",
        "WHERE child IS NULL)\n",
        "\n",
        "SELECT parent as id, url\n",
        "FROM lowest_sub\n",
        "\n",
        "'''\n",
        "pd.read_sql_query(query, conn)"
      ],
      "execution_count": 111,
      "outputs": [
        {
          "output_type": "execute_result",
          "data": {
            "text/html": [
              "<div>\n",
              "<style scoped>\n",
              "    .dataframe tbody tr th:only-of-type {\n",
              "        vertical-align: middle;\n",
              "    }\n",
              "\n",
              "    .dataframe tbody tr th {\n",
              "        vertical-align: top;\n",
              "    }\n",
              "\n",
              "    .dataframe thead th {\n",
              "        text-align: right;\n",
              "    }\n",
              "</style>\n",
              "<table border=\"1\" class=\"dataframe\">\n",
              "  <thead>\n",
              "    <tr style=\"text-align: right;\">\n",
              "      <th></th>\n",
              "      <th>id</th>\n",
              "      <th>url</th>\n",
              "    </tr>\n",
              "  </thead>\n",
              "  <tbody>\n",
              "    <tr>\n",
              "      <th>0</th>\n",
              "      <td>14</td>\n",
              "      <td>https://tiki.vn/dien-thoai-smartphone/c1795?sr...</td>\n",
              "    </tr>\n",
              "    <tr>\n",
              "      <th>1</th>\n",
              "      <td>15</td>\n",
              "      <td>https://tiki.vn/dien-thoai-pho-thong/c1796?src...</td>\n",
              "    </tr>\n",
              "    <tr>\n",
              "      <th>2</th>\n",
              "      <td>16</td>\n",
              "      <td>https://tiki.vn/dien-thoai-ban/c8061?src=c.178...</td>\n",
              "    </tr>\n",
              "    <tr>\n",
              "      <th>3</th>\n",
              "      <td>17</td>\n",
              "      <td>https://tiki.vn/may-doc-sach/c28856?src=c.1789...</td>\n",
              "    </tr>\n",
              "    <tr>\n",
              "      <th>4</th>\n",
              "      <td>18</td>\n",
              "      <td>https://tiki.vn/may-tinh-bang/c1794?src=c.1789...</td>\n",
              "    </tr>\n",
              "    <tr>\n",
              "      <th>...</th>\n",
              "      <td>...</td>\n",
              "      <td>...</td>\n",
              "    </tr>\n",
              "    <tr>\n",
              "      <th>869</th>\n",
              "      <td>996</td>\n",
              "      <td>https://tiki.vn/me-va-be/c2549?src=c.2549.hamb...</td>\n",
              "    </tr>\n",
              "    <tr>\n",
              "      <th>870</th>\n",
              "      <td>997</td>\n",
              "      <td>https://tiki.vn/lam-dep-suc-khoe/c1520?src=c.1...</td>\n",
              "    </tr>\n",
              "    <tr>\n",
              "      <th>871</th>\n",
              "      <td>998</td>\n",
              "      <td>https://tiki.vn/o-to-xe-may-xe-dap/c8594?src=c...</td>\n",
              "    </tr>\n",
              "    <tr>\n",
              "      <th>872</th>\n",
              "      <td>999</td>\n",
              "      <td>https://tiki.vn/hang-quoc-te/c17166?src=c.1716...</td>\n",
              "    </tr>\n",
              "    <tr>\n",
              "      <th>873</th>\n",
              "      <td>1000</td>\n",
              "      <td>https://tiki.vn/voucher-dich-vu/c11312?src=c.1...</td>\n",
              "    </tr>\n",
              "  </tbody>\n",
              "</table>\n",
              "<p>874 rows × 2 columns</p>\n",
              "</div>"
            ],
            "text/plain": [
              "       id                                                url\n",
              "0      14  https://tiki.vn/dien-thoai-smartphone/c1795?sr...\n",
              "1      15  https://tiki.vn/dien-thoai-pho-thong/c1796?src...\n",
              "2      16  https://tiki.vn/dien-thoai-ban/c8061?src=c.178...\n",
              "3      17  https://tiki.vn/may-doc-sach/c28856?src=c.1789...\n",
              "4      18  https://tiki.vn/may-tinh-bang/c1794?src=c.1789...\n",
              "..    ...                                                ...\n",
              "869   996  https://tiki.vn/me-va-be/c2549?src=c.2549.hamb...\n",
              "870   997  https://tiki.vn/lam-dep-suc-khoe/c1520?src=c.1...\n",
              "871   998  https://tiki.vn/o-to-xe-may-xe-dap/c8594?src=c...\n",
              "872   999  https://tiki.vn/hang-quoc-te/c17166?src=c.1716...\n",
              "873  1000  https://tiki.vn/voucher-dich-vu/c11312?src=c.1...\n",
              "\n",
              "[874 rows x 2 columns]"
            ]
          },
          "metadata": {
            "tags": []
          },
          "execution_count": 111
        }
      ]
    },
    {
      "cell_type": "code",
      "metadata": {
        "id": "Yan0rI-NJk2J"
      },
      "source": [
        "query = '''\n",
        "SELECT COUNT(id)\n",
        "FROM categories\n",
        "WHERE parent_id <16\n",
        "GROUP BY parent_id\n",
        "'''\n",
        "pd.read_sql_query(query, conn)"
      ],
      "execution_count": null,
      "outputs": []
    },
    {
      "cell_type": "code",
      "metadata": {
        "colab": {
          "base_uri": "https://localhost:8080/",
          "height": 110
        },
        "id": "xOSNI6E3mUjt",
        "outputId": "d8d92f7f-d87f-49c3-ed68-7a5cb1aaf3cc"
      },
      "source": [
        "query1 = '''\n",
        "SELECT * \n",
        "FROM categories\n",
        "LIMIT 2\n",
        "'''\n",
        "pd.read_sql_query(query1, conn)"
      ],
      "execution_count": 112,
      "outputs": [
        {
          "output_type": "execute_result",
          "data": {
            "text/html": [
              "<div>\n",
              "<style scoped>\n",
              "    .dataframe tbody tr th:only-of-type {\n",
              "        vertical-align: middle;\n",
              "    }\n",
              "\n",
              "    .dataframe tbody tr th {\n",
              "        vertical-align: top;\n",
              "    }\n",
              "\n",
              "    .dataframe thead th {\n",
              "        text-align: right;\n",
              "    }\n",
              "</style>\n",
              "<table border=\"1\" class=\"dataframe\">\n",
              "  <thead>\n",
              "    <tr style=\"text-align: right;\">\n",
              "      <th></th>\n",
              "      <th>id</th>\n",
              "      <th>name</th>\n",
              "      <th>url</th>\n",
              "      <th>parent_id</th>\n",
              "      <th>create_at</th>\n",
              "    </tr>\n",
              "  </thead>\n",
              "  <tbody>\n",
              "    <tr>\n",
              "      <th>0</th>\n",
              "      <td>1</td>\n",
              "      <td>Điện Thoại - Máy Tính Bảng</td>\n",
              "      <td>https://tiki.vn/dien-thoai-may-tinh-bang/c1789...</td>\n",
              "      <td>None</td>\n",
              "      <td>2021-04-10 15:47:17</td>\n",
              "    </tr>\n",
              "    <tr>\n",
              "      <th>1</th>\n",
              "      <td>2</td>\n",
              "      <td>Điện Tử - Điện Lạnh</td>\n",
              "      <td>https://tiki.vn/tivi-thiet-bi-nghe-nhin/c4221?...</td>\n",
              "      <td>None</td>\n",
              "      <td>2021-04-10 15:47:17</td>\n",
              "    </tr>\n",
              "  </tbody>\n",
              "</table>\n",
              "</div>"
            ],
            "text/plain": [
              "   id                        name  ... parent_id            create_at\n",
              "0   1  Điện Thoại - Máy Tính Bảng  ...      None  2021-04-10 15:47:17\n",
              "1   2         Điện Tử - Điện Lạnh  ...      None  2021-04-10 15:47:17\n",
              "\n",
              "[2 rows x 5 columns]"
            ]
          },
          "metadata": {
            "tags": []
          },
          "execution_count": 112
        }
      ]
    },
    {
      "cell_type": "code",
      "metadata": {
        "colab": {
          "base_uri": "https://localhost:8080/",
          "height": 267
        },
        "id": "cgdGA2Zuq4Fr",
        "outputId": "1fa70fd1-a166-4a07-ff56-dfc414530134"
      },
      "source": [
        "query2 = '''\n",
        "SELECT * \n",
        "FROM products\n",
        "LIMIT 2'''\n",
        "pd.read_sql_query(query2, conn)"
      ],
      "execution_count": 113,
      "outputs": [
        {
          "output_type": "execute_result",
          "data": {
            "text/html": [
              "<div>\n",
              "<style scoped>\n",
              "    .dataframe tbody tr th:only-of-type {\n",
              "        vertical-align: middle;\n",
              "    }\n",
              "\n",
              "    .dataframe tbody tr th {\n",
              "        vertical-align: top;\n",
              "    }\n",
              "\n",
              "    .dataframe thead th {\n",
              "        text-align: right;\n",
              "    }\n",
              "</style>\n",
              "<table border=\"1\" class=\"dataframe\">\n",
              "  <thead>\n",
              "    <tr style=\"text-align: right;\">\n",
              "      <th></th>\n",
              "      <th>id</th>\n",
              "      <th>Product_name</th>\n",
              "      <th>sku</th>\n",
              "      <th>Price</th>\n",
              "      <th>Image</th>\n",
              "      <th>Product_URL</th>\n",
              "      <th>Reviews</th>\n",
              "      <th>Stars</th>\n",
              "      <th>Discount</th>\n",
              "      <th>Tikinow</th>\n",
              "      <th>Freeship</th>\n",
              "      <th>Badge_under_price</th>\n",
              "      <th>Installment</th>\n",
              "      <th>Gift</th>\n",
              "      <th>main_id</th>\n",
              "      <th>create_at</th>\n",
              "    </tr>\n",
              "  </thead>\n",
              "  <tbody>\n",
              "    <tr>\n",
              "      <th>0</th>\n",
              "      <td>1</td>\n",
              "      <td>Điện Thoại Samsung Galaxy M31 (6GB/128GB) - Hà...</td>\n",
              "      <td>9643084252296</td>\n",
              "      <td>4790000</td>\n",
              "      <td>https://salt.tikicdn.com/cache/280x280/ts/prod...</td>\n",
              "      <td>https://tiki.vn/dien-thoai-samsung-galaxy-m31-...</td>\n",
              "      <td>1677</td>\n",
              "      <td>4.7</td>\n",
              "      <td>26</td>\n",
              "      <td>1</td>\n",
              "      <td>0</td>\n",
              "      <td>1</td>\n",
              "      <td>1</td>\n",
              "      <td>0</td>\n",
              "      <td>14</td>\n",
              "      <td>2021-04-11 04:12:02</td>\n",
              "    </tr>\n",
              "    <tr>\n",
              "      <th>1</th>\n",
              "      <td>2</td>\n",
              "      <td>Điện Thoại Oppo A12 (3GB/32GB) - Hàng Chính Hãng</td>\n",
              "      <td>8020626062208</td>\n",
              "      <td>2490000</td>\n",
              "      <td>https://salt.tikicdn.com/cache/280x280/ts/prod...</td>\n",
              "      <td>https://tiki.vn/dien-thoai-oppo-a12-3gb-32gb-h...</td>\n",
              "      <td>170</td>\n",
              "      <td>4.7</td>\n",
              "      <td>17</td>\n",
              "      <td>1</td>\n",
              "      <td>0</td>\n",
              "      <td>0</td>\n",
              "      <td>0</td>\n",
              "      <td>0</td>\n",
              "      <td>14</td>\n",
              "      <td>2021-04-11 04:12:02</td>\n",
              "    </tr>\n",
              "  </tbody>\n",
              "</table>\n",
              "</div>"
            ],
            "text/plain": [
              "   id  ...            create_at\n",
              "0   1  ...  2021-04-11 04:12:02\n",
              "1   2  ...  2021-04-11 04:12:02\n",
              "\n",
              "[2 rows x 16 columns]"
            ]
          },
          "metadata": {
            "tags": []
          },
          "execution_count": 113
        }
      ]
    },
    {
      "cell_type": "code",
      "metadata": {
        "colab": {
          "base_uri": "https://localhost:8080/",
          "height": 480
        },
        "id": "6EdZRgCGNLmM",
        "outputId": "6580ca62-8657-4705-c911-54ef3ecc8dd0"
      },
      "source": [
        "query1 = '''\n",
        "SELECT c.name as Category, COUNT(p.id) as Number_of_products\n",
        "FROM products as p\n",
        "JOIN categories as c ON p.main_id = c.id\n",
        "GROUP BY p.main_id\n",
        "'''\n",
        "pd.read_sql_query(query1, conn)"
      ],
      "execution_count": 115,
      "outputs": [
        {
          "output_type": "execute_result",
          "data": {
            "text/html": [
              "<div>\n",
              "<style scoped>\n",
              "    .dataframe tbody tr th:only-of-type {\n",
              "        vertical-align: middle;\n",
              "    }\n",
              "\n",
              "    .dataframe tbody tr th {\n",
              "        vertical-align: top;\n",
              "    }\n",
              "\n",
              "    .dataframe thead th {\n",
              "        text-align: right;\n",
              "    }\n",
              "</style>\n",
              "<table border=\"1\" class=\"dataframe\">\n",
              "  <thead>\n",
              "    <tr style=\"text-align: right;\">\n",
              "      <th></th>\n",
              "      <th>Category</th>\n",
              "      <th>Number_of_products</th>\n",
              "    </tr>\n",
              "  </thead>\n",
              "  <tbody>\n",
              "    <tr>\n",
              "      <th>0</th>\n",
              "      <td>Điện Thoại - Máy Tính Bảng</td>\n",
              "      <td>172</td>\n",
              "    </tr>\n",
              "    <tr>\n",
              "      <th>1</th>\n",
              "      <td>Điện Tử - Điện Lạnh</td>\n",
              "      <td>1724</td>\n",
              "    </tr>\n",
              "    <tr>\n",
              "      <th>2</th>\n",
              "      <td>Phụ Kiện - Thiết Bị Số</td>\n",
              "      <td>3434</td>\n",
              "    </tr>\n",
              "    <tr>\n",
              "      <th>3</th>\n",
              "      <td>Laptop - Thiết bị IT</td>\n",
              "      <td>3958</td>\n",
              "    </tr>\n",
              "    <tr>\n",
              "      <th>4</th>\n",
              "      <td>Máy Ảnh - Quay Phim</td>\n",
              "      <td>3797</td>\n",
              "    </tr>\n",
              "    <tr>\n",
              "      <th>5</th>\n",
              "      <td>Điện Gia Dụng</td>\n",
              "      <td>2936</td>\n",
              "    </tr>\n",
              "    <tr>\n",
              "      <th>6</th>\n",
              "      <td>Nhà Cửa Đời Sống</td>\n",
              "      <td>19781</td>\n",
              "    </tr>\n",
              "    <tr>\n",
              "      <th>7</th>\n",
              "      <td>Hàng Tiêu Dùng - Thực Phẩm</td>\n",
              "      <td>563</td>\n",
              "    </tr>\n",
              "    <tr>\n",
              "      <th>8</th>\n",
              "      <td>Đồ chơi, Mẹ &amp; Bé</td>\n",
              "      <td>289</td>\n",
              "    </tr>\n",
              "    <tr>\n",
              "      <th>9</th>\n",
              "      <td>Xe Máy, Ô tô, Xe Đạp</td>\n",
              "      <td>28</td>\n",
              "    </tr>\n",
              "    <tr>\n",
              "      <th>10</th>\n",
              "      <td>Hàng quốc tế</td>\n",
              "      <td>96</td>\n",
              "    </tr>\n",
              "    <tr>\n",
              "      <th>11</th>\n",
              "      <td>Voucher - Dịch Vụ - Thẻ Cào</td>\n",
              "      <td>124</td>\n",
              "    </tr>\n",
              "    <tr>\n",
              "      <th>12</th>\n",
              "      <td>Điện thoại Smartphone</td>\n",
              "      <td>96</td>\n",
              "    </tr>\n",
              "    <tr>\n",
              "      <th>13</th>\n",
              "      <td>Điện thoại phổ thông</td>\n",
              "      <td>96</td>\n",
              "    </tr>\n",
              "  </tbody>\n",
              "</table>\n",
              "</div>"
            ],
            "text/plain": [
              "                       Category  Number_of_products\n",
              "0    Điện Thoại - Máy Tính Bảng                 172\n",
              "1           Điện Tử - Điện Lạnh                1724\n",
              "2        Phụ Kiện - Thiết Bị Số                3434\n",
              "3          Laptop - Thiết bị IT                3958\n",
              "4           Máy Ảnh - Quay Phim                3797\n",
              "5                 Điện Gia Dụng                2936\n",
              "6              Nhà Cửa Đời Sống               19781\n",
              "7    Hàng Tiêu Dùng - Thực Phẩm                 563\n",
              "8              Đồ chơi, Mẹ & Bé                 289\n",
              "9          Xe Máy, Ô tô, Xe Đạp                  28\n",
              "10                 Hàng quốc tế                  96\n",
              "11  Voucher - Dịch Vụ - Thẻ Cào                 124\n",
              "12        Điện thoại Smartphone                  96\n",
              "13         Điện thoại phổ thông                  96"
            ]
          },
          "metadata": {
            "tags": []
          },
          "execution_count": 115
        }
      ]
    },
    {
      "cell_type": "code",
      "metadata": {
        "colab": {
          "base_uri": "https://localhost:8080/",
          "height": 297
        },
        "id": "MA5CRPrtxDi_",
        "outputId": "df665ad3-8725-4058-fa24-d32c4a7cb864"
      },
      "source": [
        "#Total product for each group\n",
        "query1 = '''\n",
        "SELECT c.name as Category, COUNT(p.id) as Number_of_products\n",
        "FROM products as p\n",
        "JOIN categories as c ON p.main_id = c.id\n",
        "GROUP BY p.main_id\n",
        "\n",
        "'''\n",
        "df = pd.read_sql_query(query1, conn)\n",
        "sns.barplot(data=df, y='Category', x = 'Number_of_products')"
      ],
      "execution_count": 114,
      "outputs": [
        {
          "output_type": "execute_result",
          "data": {
            "text/plain": [
              "<matplotlib.axes._subplots.AxesSubplot at 0x7f88f2939a50>"
            ]
          },
          "metadata": {
            "tags": []
          },
          "execution_count": 114
        },
        {
          "output_type": "display_data",
          "data": {
            "image/png": "[encoded data removed]",
            "text/plain": [
              "<Figure size 432x288 with 1 Axes>"
            ]
          },
          "metadata": {
            "tags": [],
            "needs_background": "light"
          }
        }
      ]
    },
    {
      "cell_type": "code",
      "metadata": {
        "colab": {
          "base_uri": "https://localhost:8080/",
          "height": 480
        },
        "id": "H-NMUsQorFi3",
        "outputId": "ac2ea0cb-aa07-4c30-ab7a-1f0420565854"
      },
      "source": [
        "#Most expensive of each group\n",
        "query2 = '''\n",
        "SELECT p.Product_name, MAX(p.price) as Most_expensive, c.name as Category\n",
        "FROM products as p\n",
        "JOIN categories as c WHERE p.main_id = c.id\n",
        "GROUP BY p.main_id\n",
        "'''\n",
        "pd.read_sql_query(query2, conn)"
      ],
      "execution_count": 116,
      "outputs": [
        {
          "output_type": "execute_result",
          "data": {
            "text/html": [
              "<div>\n",
              "<style scoped>\n",
              "    .dataframe tbody tr th:only-of-type {\n",
              "        vertical-align: middle;\n",
              "    }\n",
              "\n",
              "    .dataframe tbody tr th {\n",
              "        vertical-align: top;\n",
              "    }\n",
              "\n",
              "    .dataframe thead th {\n",
              "        text-align: right;\n",
              "    }\n",
              "</style>\n",
              "<table border=\"1\" class=\"dataframe\">\n",
              "  <thead>\n",
              "    <tr style=\"text-align: right;\">\n",
              "      <th></th>\n",
              "      <th>Product_name</th>\n",
              "      <th>Most_expensive</th>\n",
              "      <th>Category</th>\n",
              "    </tr>\n",
              "  </thead>\n",
              "  <tbody>\n",
              "    <tr>\n",
              "      <th>0</th>\n",
              "      <td>Surface Pro 6 Intel Core I7 Ram 16GB SSD 1TB (...</td>\n",
              "      <td>55880000</td>\n",
              "      <td>Điện Thoại - Máy Tính Bảng</td>\n",
              "    </tr>\n",
              "    <tr>\n",
              "      <th>1</th>\n",
              "      <td>Android Tivi Sharp 8K 80 inch 8T-80AX1X</td>\n",
              "      <td>356390000</td>\n",
              "      <td>Điện Tử - Điện Lạnh</td>\n",
              "    </tr>\n",
              "    <tr>\n",
              "      <th>2</th>\n",
              "      <td>Bảng Vẽ Wacom Cintiq Pro 24 23.6inch - Pen &amp; T...</td>\n",
              "      <td>71000000</td>\n",
              "      <td>Phụ Kiện - Thiết Bị Số</td>\n",
              "    </tr>\n",
              "    <tr>\n",
              "      <th>3</th>\n",
              "      <td>Bộ lưu điện Santak True Online 3/3 20KVA - Mod...</td>\n",
              "      <td>180000000</td>\n",
              "      <td>Laptop - Thiết bị IT</td>\n",
              "    </tr>\n",
              "    <tr>\n",
              "      <th>4</th>\n",
              "      <td>Máy Quay Canon EOS C300 MK II - Hàng Chính Hãng</td>\n",
              "      <td>252000000</td>\n",
              "      <td>Máy Ảnh - Quay Phim</td>\n",
              "    </tr>\n",
              "    <tr>\n",
              "      <th>5</th>\n",
              "      <td>Máy làm kem Ý MEHEN M5 2300W - Hàng Nhập Khẩu</td>\n",
              "      <td>150000000</td>\n",
              "      <td>Điện Gia Dụng</td>\n",
              "    </tr>\n",
              "    <tr>\n",
              "      <th>6</th>\n",
              "      <td>ĐÀN PIANO ĐIỆN YAMAHA CVP 705</td>\n",
              "      <td>118000000</td>\n",
              "      <td>Nhà Cửa Đời Sống</td>\n",
              "    </tr>\n",
              "    <tr>\n",
              "      <th>7</th>\n",
              "      <td>Tổ Yến Sào Khánh Hòa Nest - 100g ( Yến Tinh Chế )</td>\n",
              "      <td>4400000</td>\n",
              "      <td>Hàng Tiêu Dùng - Thực Phẩm</td>\n",
              "    </tr>\n",
              "    <tr>\n",
              "      <th>8</th>\n",
              "      <td>05 Hộp Sữa Bột Ensure Úc Vị Vani (850g)</td>\n",
              "      <td>2750000</td>\n",
              "      <td>Đồ chơi, Mẹ &amp; Bé</td>\n",
              "    </tr>\n",
              "    <tr>\n",
              "      <th>9</th>\n",
              "      <td>Xe scooter thể thao gấp gọn Homesheel AONE X P...</td>\n",
              "      <td>16990000</td>\n",
              "      <td>Xe Máy, Ô tô, Xe Đạp</td>\n",
              "    </tr>\n",
              "    <tr>\n",
              "      <th>10</th>\n",
              "      <td>Chemical Safety Painting Spray Military  Rubbe...</td>\n",
              "      <td>706000</td>\n",
              "      <td>Hàng quốc tế</td>\n",
              "    </tr>\n",
              "    <tr>\n",
              "      <th>11</th>\n",
              "      <td>Lập trình Ứng Dụng (App) trên điện thoại Andro...</td>\n",
              "      <td>20000000</td>\n",
              "      <td>Voucher - Dịch Vụ - Thẻ Cào</td>\n",
              "    </tr>\n",
              "    <tr>\n",
              "      <th>12</th>\n",
              "      <td>Điện Thoại iPhone 12 Pro Max 512GB - Hàng Chín...</td>\n",
              "      <td>38600000</td>\n",
              "      <td>Điện thoại Smartphone</td>\n",
              "    </tr>\n",
              "    <tr>\n",
              "      <th>13</th>\n",
              "      <td>Điện Thoại Suntek Voga V1 - Hàng Chính Hãng</td>\n",
              "      <td>2990000</td>\n",
              "      <td>Điện thoại phổ thông</td>\n",
              "    </tr>\n",
              "  </tbody>\n",
              "</table>\n",
              "</div>"
            ],
            "text/plain": [
              "                                         Product_name  ...                     Category\n",
              "0   Surface Pro 6 Intel Core I7 Ram 16GB SSD 1TB (...  ...   Điện Thoại - Máy Tính Bảng\n",
              "1             Android Tivi Sharp 8K 80 inch 8T-80AX1X  ...          Điện Tử - Điện Lạnh\n",
              "2   Bảng Vẽ Wacom Cintiq Pro 24 23.6inch - Pen & T...  ...       Phụ Kiện - Thiết Bị Số\n",
              "3   Bộ lưu điện Santak True Online 3/3 20KVA - Mod...  ...         Laptop - Thiết bị IT\n",
              "4     Máy Quay Canon EOS C300 MK II - Hàng Chính Hãng  ...          Máy Ảnh - Quay Phim\n",
              "5       Máy làm kem Ý MEHEN M5 2300W - Hàng Nhập Khẩu  ...                Điện Gia Dụng\n",
              "6                       ĐÀN PIANO ĐIỆN YAMAHA CVP 705  ...             Nhà Cửa Đời Sống\n",
              "7   Tổ Yến Sào Khánh Hòa Nest - 100g ( Yến Tinh Chế )  ...   Hàng Tiêu Dùng - Thực Phẩm\n",
              "8             05 Hộp Sữa Bột Ensure Úc Vị Vani (850g)  ...             Đồ chơi, Mẹ & Bé\n",
              "9   Xe scooter thể thao gấp gọn Homesheel AONE X P...  ...         Xe Máy, Ô tô, Xe Đạp\n",
              "10  Chemical Safety Painting Spray Military  Rubbe...  ...                 Hàng quốc tế\n",
              "11  Lập trình Ứng Dụng (App) trên điện thoại Andro...  ...  Voucher - Dịch Vụ - Thẻ Cào\n",
              "12  Điện Thoại iPhone 12 Pro Max 512GB - Hàng Chín...  ...        Điện thoại Smartphone\n",
              "13        Điện Thoại Suntek Voga V1 - Hàng Chính Hãng  ...         Điện thoại phổ thông\n",
              "\n",
              "[14 rows x 3 columns]"
            ]
          },
          "metadata": {
            "tags": []
          },
          "execution_count": 116
        }
      ]
    },
    {
      "cell_type": "code",
      "metadata": {
        "colab": {
          "base_uri": "https://localhost:8080/",
          "height": 79
        },
        "id": "Jc50bRTJwIKX",
        "outputId": "e926db2b-2119-428b-f634-681e2ca1576b"
      },
      "source": [
        "#Biggest discount items for each category\n",
        "query4 = '''\n",
        "WITH discount AS\n",
        "(SELECT c.name as Category, AVG(Discount) as avg_discount\n",
        "FROM products as p\n",
        "JOIN categories as c WHERE p.main_id = c.id\n",
        "GROUP BY p.main_id)\n",
        "\n",
        "SELECT Category, MAX(avg_discount) as Max_discount\n",
        "FROM discount\n",
        "'''\n",
        "pd.read_sql_query(query4, conn)"
      ],
      "execution_count": 124,
      "outputs": [
        {
          "output_type": "execute_result",
          "data": {
            "text/html": [
              "<div>\n",
              "<style scoped>\n",
              "    .dataframe tbody tr th:only-of-type {\n",
              "        vertical-align: middle;\n",
              "    }\n",
              "\n",
              "    .dataframe tbody tr th {\n",
              "        vertical-align: top;\n",
              "    }\n",
              "\n",
              "    .dataframe thead th {\n",
              "        text-align: right;\n",
              "    }\n",
              "</style>\n",
              "<table border=\"1\" class=\"dataframe\">\n",
              "  <thead>\n",
              "    <tr style=\"text-align: right;\">\n",
              "      <th></th>\n",
              "      <th>Category</th>\n",
              "      <th>Max_discount</th>\n",
              "    </tr>\n",
              "  </thead>\n",
              "  <tbody>\n",
              "    <tr>\n",
              "      <th>0</th>\n",
              "      <td>Hàng quốc tế</td>\n",
              "      <td>44.166667</td>\n",
              "    </tr>\n",
              "  </tbody>\n",
              "</table>\n",
              "</div>"
            ],
            "text/plain": [
              "       Category  Max_discount\n",
              "0  Hàng quốc tế     44.166667"
            ]
          },
          "metadata": {
            "tags": []
          },
          "execution_count": 124
        }
      ]
    },
    {
      "cell_type": "code",
      "metadata": {
        "colab": {
          "base_uri": "https://localhost:8080/",
          "height": 480
        },
        "id": "WaIKC1EewVbW",
        "outputId": "84f51658-169f-43d1-c798-4c53b7f1a27f"
      },
      "source": [
        "#discount average\n",
        "query2 = '''\n",
        "SELECT AVG(p.Discount) as avg_discount, c.name as Category\n",
        "FROM products as p\n",
        "JOIN categories as c WHERE p.main_id = c.id\n",
        "GROUP BY p.main_id\n",
        "'''\n",
        "pd.read_sql_query(query2, conn)"
      ],
      "execution_count": 118,
      "outputs": [
        {
          "output_type": "execute_result",
          "data": {
            "text/html": [
              "<div>\n",
              "<style scoped>\n",
              "    .dataframe tbody tr th:only-of-type {\n",
              "        vertical-align: middle;\n",
              "    }\n",
              "\n",
              "    .dataframe tbody tr th {\n",
              "        vertical-align: top;\n",
              "    }\n",
              "\n",
              "    .dataframe thead th {\n",
              "        text-align: right;\n",
              "    }\n",
              "</style>\n",
              "<table border=\"1\" class=\"dataframe\">\n",
              "  <thead>\n",
              "    <tr style=\"text-align: right;\">\n",
              "      <th></th>\n",
              "      <th>avg_discount</th>\n",
              "      <th>Category</th>\n",
              "    </tr>\n",
              "  </thead>\n",
              "  <tbody>\n",
              "    <tr>\n",
              "      <th>0</th>\n",
              "      <td>21.808140</td>\n",
              "      <td>Điện Thoại - Máy Tính Bảng</td>\n",
              "    </tr>\n",
              "    <tr>\n",
              "      <th>1</th>\n",
              "      <td>30.910673</td>\n",
              "      <td>Điện Tử - Điện Lạnh</td>\n",
              "    </tr>\n",
              "    <tr>\n",
              "      <th>2</th>\n",
              "      <td>38.130751</td>\n",
              "      <td>Phụ Kiện - Thiết Bị Số</td>\n",
              "    </tr>\n",
              "    <tr>\n",
              "      <th>3</th>\n",
              "      <td>25.628348</td>\n",
              "      <td>Laptop - Thiết bị IT</td>\n",
              "    </tr>\n",
              "    <tr>\n",
              "      <th>4</th>\n",
              "      <td>30.374243</td>\n",
              "      <td>Máy Ảnh - Quay Phim</td>\n",
              "    </tr>\n",
              "    <tr>\n",
              "      <th>5</th>\n",
              "      <td>30.417575</td>\n",
              "      <td>Điện Gia Dụng</td>\n",
              "    </tr>\n",
              "    <tr>\n",
              "      <th>6</th>\n",
              "      <td>34.737071</td>\n",
              "      <td>Nhà Cửa Đời Sống</td>\n",
              "    </tr>\n",
              "    <tr>\n",
              "      <th>7</th>\n",
              "      <td>21.747780</td>\n",
              "      <td>Hàng Tiêu Dùng - Thực Phẩm</td>\n",
              "    </tr>\n",
              "    <tr>\n",
              "      <th>8</th>\n",
              "      <td>12.083045</td>\n",
              "      <td>Đồ chơi, Mẹ &amp; Bé</td>\n",
              "    </tr>\n",
              "    <tr>\n",
              "      <th>9</th>\n",
              "      <td>20.107143</td>\n",
              "      <td>Xe Máy, Ô tô, Xe Đạp</td>\n",
              "    </tr>\n",
              "    <tr>\n",
              "      <th>10</th>\n",
              "      <td>44.166667</td>\n",
              "      <td>Hàng quốc tế</td>\n",
              "    </tr>\n",
              "    <tr>\n",
              "      <th>11</th>\n",
              "      <td>13.290323</td>\n",
              "      <td>Voucher - Dịch Vụ - Thẻ Cào</td>\n",
              "    </tr>\n",
              "    <tr>\n",
              "      <th>12</th>\n",
              "      <td>20.479167</td>\n",
              "      <td>Điện thoại Smartphone</td>\n",
              "    </tr>\n",
              "    <tr>\n",
              "      <th>13</th>\n",
              "      <td>22.458333</td>\n",
              "      <td>Điện thoại phổ thông</td>\n",
              "    </tr>\n",
              "  </tbody>\n",
              "</table>\n",
              "</div>"
            ],
            "text/plain": [
              "    avg_discount                     Category\n",
              "0      21.808140   Điện Thoại - Máy Tính Bảng\n",
              "1      30.910673          Điện Tử - Điện Lạnh\n",
              "2      38.130751       Phụ Kiện - Thiết Bị Số\n",
              "3      25.628348         Laptop - Thiết bị IT\n",
              "4      30.374243          Máy Ảnh - Quay Phim\n",
              "5      30.417575                Điện Gia Dụng\n",
              "6      34.737071             Nhà Cửa Đời Sống\n",
              "7      21.747780   Hàng Tiêu Dùng - Thực Phẩm\n",
              "8      12.083045             Đồ chơi, Mẹ & Bé\n",
              "9      20.107143         Xe Máy, Ô tô, Xe Đạp\n",
              "10     44.166667                 Hàng quốc tế\n",
              "11     13.290323  Voucher - Dịch Vụ - Thẻ Cào\n",
              "12     20.479167        Điện thoại Smartphone\n",
              "13     22.458333         Điện thoại phổ thông"
            ]
          },
          "metadata": {
            "tags": []
          },
          "execution_count": 118
        }
      ]
    },
    {
      "cell_type": "code",
      "metadata": {
        "colab": {
          "base_uri": "https://localhost:8080/",
          "height": 297
        },
        "id": "-BIAKhqGrQij",
        "outputId": "b8b6ea02-9a09-473b-e2cb-6ad85f2c9b1b"
      },
      "source": [
        "#Number of reviews for each Category\n",
        "query = '''\n",
        "SELECT c.name as Category, COUNT(p.Reviews) as Number_of_reviews\n",
        "FROM products as p\n",
        "JOIN categories as c ON p.main_id = c.id\n",
        "GROUP BY Category\n",
        "'''\n",
        "df  = pd.read_sql_query(query, conn)\n",
        "sns.barplot(data=df, x ='Number_of_reviews', y ='Category')"
      ],
      "execution_count": 86,
      "outputs": [
        {
          "output_type": "execute_result",
          "data": {
            "text/plain": [
              "<matplotlib.axes._subplots.AxesSubplot at 0x7f88d8e32e90>"
            ]
          },
          "metadata": {
            "tags": []
          },
          "execution_count": 86
        },
        {
          "output_type": "display_data",
          "data": {
            "image/png": "[encoded data removed]",
            "text/plain": [
              "<Figure size 432x288 with 1 Axes>"
            ]
          },
          "metadata": {
            "tags": [],
            "needs_background": "light"
          }
        }
      ]
    },
    {
      "cell_type": "code",
      "metadata": {
        "colab": {
          "base_uri": "https://localhost:8080/",
          "height": 297
        },
        "id": "T8HWH8g--VYf",
        "outputId": "fe3efaef-6ead-4bad-8d95-ba5e73617093"
      },
      "source": [
        "#Average price of each group \n",
        "query5 = '''\n",
        "SELECT AVG(p.price) as average_price, c.name as Category\n",
        "FROM products as p\n",
        "JOIN categories as c ON p.main_id = c.id\n",
        "GROUP BY p.main_id\n",
        "'''\n",
        "df = pd.read_sql_query(query5, conn)\n",
        "sns.barplot(data =df, x = 'average_price', y = 'Category')"
      ],
      "execution_count": 119,
      "outputs": [
        {
          "output_type": "execute_result",
          "data": {
            "text/plain": [
              "<matplotlib.axes._subplots.AxesSubplot at 0x7f88eea6be10>"
            ]
          },
          "metadata": {
            "tags": []
          },
          "execution_count": 119
        },
        {
          "output_type": "display_data",
          "data": {
            "image/png": "[encoded data removed]",
            "text/plain": [
              "<Figure size 432x288 with 1 Axes>"
            ]
          },
          "metadata": {
            "tags": [],
            "needs_background": "light"
          }
        }
      ]
    },
    {
      "cell_type": "code",
      "metadata": {
        "colab": {
          "base_uri": "https://localhost:8080/",
          "height": 480
        },
        "id": "Ch5H4pAbCCav",
        "outputId": "bd793563-c669-4bf7-991d-8ca7b00aee04"
      },
      "source": [
        "query5 = '''\n",
        "SELECT AVG(p.price) as average_price, c.name as Category\n",
        "FROM products as p\n",
        "JOIN categories as c ON p.main_id = c.id\n",
        "GROUP BY p.main_id\n",
        "'''\n",
        "pd.read_sql_query(query5, conn)"
      ],
      "execution_count": 120,
      "outputs": [
        {
          "output_type": "execute_result",
          "data": {
            "text/html": [
              "<div>\n",
              "<style scoped>\n",
              "    .dataframe tbody tr th:only-of-type {\n",
              "        vertical-align: middle;\n",
              "    }\n",
              "\n",
              "    .dataframe tbody tr th {\n",
              "        vertical-align: top;\n",
              "    }\n",
              "\n",
              "    .dataframe thead th {\n",
              "        text-align: right;\n",
              "    }\n",
              "</style>\n",
              "<table border=\"1\" class=\"dataframe\">\n",
              "  <thead>\n",
              "    <tr style=\"text-align: right;\">\n",
              "      <th></th>\n",
              "      <th>average_price</th>\n",
              "      <th>Category</th>\n",
              "    </tr>\n",
              "  </thead>\n",
              "  <tbody>\n",
              "    <tr>\n",
              "      <th>0</th>\n",
              "      <td>4.660295e+06</td>\n",
              "      <td>Điện Thoại - Máy Tính Bảng</td>\n",
              "    </tr>\n",
              "    <tr>\n",
              "      <th>1</th>\n",
              "      <td>9.637769e+06</td>\n",
              "      <td>Điện Tử - Điện Lạnh</td>\n",
              "    </tr>\n",
              "    <tr>\n",
              "      <th>2</th>\n",
              "      <td>9.945053e+05</td>\n",
              "      <td>Phụ Kiện - Thiết Bị Số</td>\n",
              "    </tr>\n",
              "    <tr>\n",
              "      <th>3</th>\n",
              "      <td>4.464732e+06</td>\n",
              "      <td>Laptop - Thiết bị IT</td>\n",
              "    </tr>\n",
              "    <tr>\n",
              "      <th>4</th>\n",
              "      <td>2.799327e+06</td>\n",
              "      <td>Máy Ảnh - Quay Phim</td>\n",
              "    </tr>\n",
              "    <tr>\n",
              "      <th>5</th>\n",
              "      <td>2.546793e+06</td>\n",
              "      <td>Điện Gia Dụng</td>\n",
              "    </tr>\n",
              "    <tr>\n",
              "      <th>6</th>\n",
              "      <td>6.922690e+05</td>\n",
              "      <td>Nhà Cửa Đời Sống</td>\n",
              "    </tr>\n",
              "    <tr>\n",
              "      <th>7</th>\n",
              "      <td>3.700750e+05</td>\n",
              "      <td>Hàng Tiêu Dùng - Thực Phẩm</td>\n",
              "    </tr>\n",
              "    <tr>\n",
              "      <th>8</th>\n",
              "      <td>3.441456e+05</td>\n",
              "      <td>Đồ chơi, Mẹ &amp; Bé</td>\n",
              "    </tr>\n",
              "    <tr>\n",
              "      <th>9</th>\n",
              "      <td>5.357271e+06</td>\n",
              "      <td>Xe Máy, Ô tô, Xe Đạp</td>\n",
              "    </tr>\n",
              "    <tr>\n",
              "      <th>10</th>\n",
              "      <td>2.417292e+05</td>\n",
              "      <td>Hàng quốc tế</td>\n",
              "    </tr>\n",
              "    <tr>\n",
              "      <th>11</th>\n",
              "      <td>1.179032e+06</td>\n",
              "      <td>Voucher - Dịch Vụ - Thẻ Cào</td>\n",
              "    </tr>\n",
              "    <tr>\n",
              "      <th>12</th>\n",
              "      <td>8.745240e+06</td>\n",
              "      <td>Điện thoại Smartphone</td>\n",
              "    </tr>\n",
              "    <tr>\n",
              "      <th>13</th>\n",
              "      <td>3.994635e+05</td>\n",
              "      <td>Điện thoại phổ thông</td>\n",
              "    </tr>\n",
              "  </tbody>\n",
              "</table>\n",
              "</div>"
            ],
            "text/plain": [
              "    average_price                     Category\n",
              "0    4.660295e+06   Điện Thoại - Máy Tính Bảng\n",
              "1    9.637769e+06          Điện Tử - Điện Lạnh\n",
              "2    9.945053e+05       Phụ Kiện - Thiết Bị Số\n",
              "3    4.464732e+06         Laptop - Thiết bị IT\n",
              "4    2.799327e+06          Máy Ảnh - Quay Phim\n",
              "5    2.546793e+06                Điện Gia Dụng\n",
              "6    6.922690e+05             Nhà Cửa Đời Sống\n",
              "7    3.700750e+05   Hàng Tiêu Dùng - Thực Phẩm\n",
              "8    3.441456e+05             Đồ chơi, Mẹ & Bé\n",
              "9    5.357271e+06         Xe Máy, Ô tô, Xe Đạp\n",
              "10   2.417292e+05                 Hàng quốc tế\n",
              "11   1.179032e+06  Voucher - Dịch Vụ - Thẻ Cào\n",
              "12   8.745240e+06        Điện thoại Smartphone\n",
              "13   3.994635e+05         Điện thoại phổ thông"
            ]
          },
          "metadata": {
            "tags": []
          },
          "execution_count": 120
        }
      ]
    },
    {
      "cell_type": "code",
      "metadata": {
        "id": "GJDR8Vjb_1Cg"
      },
      "source": [
        ""
      ],
      "execution_count": null,
      "outputs": []
    }
  ]
}